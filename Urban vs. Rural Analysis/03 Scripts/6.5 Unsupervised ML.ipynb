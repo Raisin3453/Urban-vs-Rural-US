{
 "cells": [
  {
   "cell_type": "markdown",
   "id": "dc72f518-3682-4af5-88bf-7deebb3b3fb9",
   "metadata": {},
   "source": [
    "# 00. Contents"
   ]
  },
  {
   "cell_type": "markdown",
   "id": "363ed809-85d1-4571-ab99-6db0d1abfa0e",
   "metadata": {},
   "source": [
    "### 01. Importing libraries"
   ]
  },
  {
   "cell_type": "markdown",
   "id": "b7486682-1af5-40d5-9786-ac9c422054e6",
   "metadata": {},
   "source": [
    "### 02. Importing data"
   ]
  },
  {
   "cell_type": "markdown",
   "id": "522960e0-89ce-4082-b98f-f7a88ee5dcae",
   "metadata": {},
   "source": [
    "### 03. Prepping data for analysis"
   ]
  },
  {
   "cell_type": "markdown",
   "id": "fbb7c73e-bde8-467a-8469-fbd91c1f8c75",
   "metadata": {},
   "source": [
    "### 04. Elbow technique"
   ]
  },
  {
   "cell_type": "markdown",
   "id": "f95c97d5-37c6-4568-a84a-12722f37d412",
   "metadata": {},
   "source": [
    "### 05. k-means clustering"
   ]
  },
  {
   "cell_type": "markdown",
   "id": "759a479a-b868-49e3-af2d-73b435776299",
   "metadata": {},
   "source": [
    "# 01. Importing libraries"
   ]
  },
  {
   "cell_type": "code",
   "execution_count": 59,
   "id": "d486cd25-35a3-4a1c-b6d8-a9db1bfbf01a",
   "metadata": {},
   "outputs": [],
   "source": [
    "import pandas as pd\n",
    "import numpy as np\n",
    "import seaborn as sns\n",
    "import matplotlib\n",
    "import matplotlib.pyplot as plt\n",
    "import os\n",
    "import sklearn\n",
    "from sklearn.cluster import KMeans\n",
    "import pylab as pl"
   ]
  },
  {
   "cell_type": "markdown",
   "id": "4deaa4f5-1673-4a0a-a571-e6cda9533af3",
   "metadata": {},
   "source": [
    "# 02. Importing data"
   ]
  },
  {
   "cell_type": "code",
   "execution_count": 61,
   "id": "6f217e4e-021a-4a31-b788-c525aa357c5b",
   "metadata": {},
   "outputs": [],
   "source": [
    "# Creating a path\n",
    "\n",
    "path = r'/Users/agne/Documents/Studies/Data Analysis/Study Materials/Advanced Analytics'"
   ]
  },
  {
   "cell_type": "code",
   "execution_count": 62,
   "id": "a2880b06-db5c-44de-abdd-63dce8197b81",
   "metadata": {},
   "outputs": [],
   "source": [
    "df_income = pd.read_csv(os.path.join(path, '6.1 Sourcing the Data', 'cleaned_income.csv'), index_col=False)"
   ]
  },
  {
   "cell_type": "markdown",
   "id": "7c3c0be2-00f7-4877-92fd-08146108e953",
   "metadata": {},
   "source": [
    "# 03. Prepping data for the analysis"
   ]
  },
  {
   "cell_type": "code",
   "execution_count": 64,
   "id": "34092f63-41bb-42cb-922d-f492f7d350d2",
   "metadata": {},
   "outputs": [],
   "source": [
    "# Dropping the Unnamed column\n",
    "\n",
    "df_income.drop(columns = ['Unnamed: 0'], inplace=True)"
   ]
  },
  {
   "cell_type": "code",
   "execution_count": 131,
   "id": "50fd4316-6015-46dc-b753-7e97b7cef8e8",
   "metadata": {},
   "outputs": [],
   "source": [
    "numbers_only = df_income[['Median Household Income', 'Total Population']]"
   ]
  },
  {
   "cell_type": "code",
   "execution_count": 132,
   "id": "7e859ee7-b898-4e3d-8625-fd66930d9505",
   "metadata": {},
   "outputs": [
    {
     "data": {
      "text/plain": [
       "Median Household Income    int64\n",
       "Total Population           int64\n",
       "dtype: object"
      ]
     },
     "execution_count": 132,
     "metadata": {},
     "output_type": "execute_result"
    }
   ],
   "source": [
    "numbers_only.dtypes"
   ]
  },
  {
   "cell_type": "markdown",
   "id": "41b9200c-aca7-491f-9d7f-8bed4fa8aa47",
   "metadata": {},
   "source": [
    "# 04. Elbow technique"
   ]
  },
  {
   "cell_type": "code",
   "execution_count": 134,
   "id": "2bd55ad5-5f4e-4c1d-8c63-3925f1287276",
   "metadata": {},
   "outputs": [],
   "source": [
    "# Setting the range\n",
    "\n",
    "num_cl = range(1, 10)\n",
    "kmeans = [KMeans(n_clusters=i) for i in num_cl]"
   ]
  },
  {
   "cell_type": "code",
   "execution_count": 135,
   "id": "d9b13c29-3834-4b12-b6fe-f28632266945",
   "metadata": {},
   "outputs": [
    {
     "data": {
      "text/plain": [
       "[-350534553969300.4,\n",
       " -167599061381904.4,\n",
       " -86032579365847.56,\n",
       " -49832188188458.5,\n",
       " -30146803187253.574,\n",
       " -18192392522444.85,\n",
       " -12443378923806.145,\n",
       " -8641338455936.379,\n",
       " -7295259611772.855]"
      ]
     },
     "execution_count": 135,
     "metadata": {},
     "output_type": "execute_result"
    }
   ],
   "source": [
    "# Checking the score for the clusters\n",
    "score = [kmeans[i].fit(numbers_only).score(numbers_only) for i in range(len(kmeans))]\n",
    "\n",
    "score"
   ]
  },
  {
   "cell_type": "code",
   "execution_count": 136,
   "id": "0c1100c2-f430-4a22-bb35-e05e2309b593",
   "metadata": {},
   "outputs": [
    {
     "data": {
      "image/png": "[encoded data removed]",
      "text/plain": [
       "<Figure size 640x480 with 1 Axes>"
      ]
     },
     "metadata": {},
     "output_type": "display_data"
    }
   ],
   "source": [
    "# Plot the elbow curve using PyLab.\n",
    "\n",
    "pl.plot(num_cl,score)\n",
    "pl.xlabel('Number of Clusters')\n",
    "pl.ylabel('Score')\n",
    "pl.title('Elbow Curve')\n",
    "pl.show()"
   ]
  },
  {
   "cell_type": "markdown",
   "id": "17e819ae-5341-4389-9aab-cbe5db3cb740",
   "metadata": {},
   "source": [
    "Looks like 4 is the optimal choice for the clusters because after it, the increase is minimal."
   ]
  },
  {
   "cell_type": "markdown",
   "id": "d60e190d-fb6e-4f36-adfe-2cee4c23889b",
   "metadata": {},
   "source": [
    "# 05. k-means clustering"
   ]
  },
  {
   "cell_type": "code",
   "execution_count": 139,
   "id": "c6420a4c-469e-416f-841b-4b144bcc32ce",
   "metadata": {},
   "outputs": [],
   "source": [
    "# Creating the k-means object.\n",
    "\n",
    "kmeans = KMeans(n_clusters = 4) "
   ]
  },
  {
   "cell_type": "code",
   "execution_count": 140,
   "id": "bf374c67-86fb-428c-bf13-b0cdf875ea32",
   "metadata": {},
   "outputs": [
    {
     "data": {
      "text/html": [
       "<style>#sk-container-id-3 {\n",
       "  /* Definition of color scheme common for light and dark mode */\n",
       "  --sklearn-color-text: black;\n",
       "  --sklearn-color-line: gray;\n",
       "  /* Definition of color scheme for unfitted estimators */\n",
       "  --sklearn-color-unfitted-level-0: #fff5e6;\n",
       "  --sklearn-color-unfitted-level-1: #f6e4d2;\n",
       "  --sklearn-color-unfitted-level-2: #ffe0b3;\n",
       "  --sklearn-color-unfitted-level-3: chocolate;\n",
       "  /* Definition of color scheme for fitted estimators */\n",
       "  --sklearn-color-fitted-level-0: #f0f8ff;\n",
       "  --sklearn-color-fitted-level-1: #d4ebff;\n",
       "  --sklearn-color-fitted-level-2: #b3dbfd;\n",
       "  --sklearn-color-fitted-level-3: cornflowerblue;\n",
       "\n",
       "  /* Specific color for light theme */\n",
       "  --sklearn-color-text-on-default-background: var(--sg-text-color, var(--theme-code-foreground, var(--jp-content-font-color1, black)));\n",
       "  --sklearn-color-background: var(--sg-background-color, var(--theme-background, var(--jp-layout-color0, white)));\n",
       "  --sklearn-color-border-box: var(--sg-text-color, var(--theme-code-foreground, var(--jp-content-font-color1, black)));\n",
       "  --sklearn-color-icon: #696969;\n",
       "\n",
       "  @media (prefers-color-scheme: dark) {\n",
       "    /* Redefinition of color scheme for dark theme */\n",
       "    --sklearn-color-text-on-default-background: var(--sg-text-color, var(--theme-code-foreground, var(--jp-content-font-color1, white)));\n",
       "    --sklearn-color-background: var(--sg-background-color, var(--theme-background, var(--jp-layout-color0, #111)));\n",
       "    --sklearn-color-border-box: var(--sg-text-color, var(--theme-code-foreground, var(--jp-content-font-color1, white)));\n",
       "    --sklearn-color-icon: #878787;\n",
       "  }\n",
       "}\n",
       "\n",
       "#sk-container-id-3 {\n",
       "  color: var(--sklearn-color-text);\n",
       "}\n",
       "\n",
       "#sk-container-id-3 pre {\n",
       "  padding: 0;\n",
       "}\n",
       "\n",
       "#sk-container-id-3 input.sk-hidden--visually {\n",
       "  border: 0;\n",
       "  clip: rect(1px 1px 1px 1px);\n",
       "  clip: rect(1px, 1px, 1px, 1px);\n",
       "  height: 1px;\n",
       "  margin: -1px;\n",
       "  overflow: hidden;\n",
       "  padding: 0;\n",
       "  position: absolute;\n",
       "  width: 1px;\n",
       "}\n",
       "\n",
       "#sk-container-id-3 div.sk-dashed-wrapped {\n",
       "  border: 1px dashed var(--sklearn-color-line);\n",
       "  margin: 0 0.4em 0.5em 0.4em;\n",
       "  box-sizing: border-box;\n",
       "  padding-bottom: 0.4em;\n",
       "  background-color: var(--sklearn-color-background);\n",
       "}\n",
       "\n",
       "#sk-container-id-3 div.sk-container {\n",
       "  /* jupyter's `normalize.less` sets `[hidden] { display: none; }`\n",
       "     but bootstrap.min.css set `[hidden] { display: none !important; }`\n",
       "     so we also need the `!important` here to be able to override the\n",
       "     default hidden behavior on the sphinx rendered scikit-learn.org.\n",
       "     See: https://github.com/scikit-learn/scikit-learn/issues/21755 */\n",
       "  display: inline-block !important;\n",
       "  position: relative;\n",
       "}\n",
       "\n",
       "#sk-container-id-3 div.sk-text-repr-fallback {\n",
       "  display: none;\n",
       "}\n",
       "\n",
       "div.sk-parallel-item,\n",
       "div.sk-serial,\n",
       "div.sk-item {\n",
       "  /* draw centered vertical line to link estimators */\n",
       "  background-image: linear-gradient(var(--sklearn-color-text-on-default-background), var(--sklearn-color-text-on-default-background));\n",
       "  background-size: 2px 100%;\n",
       "  background-repeat: no-repeat;\n",
       "  background-position: center center;\n",
       "}\n",
       "\n",
       "/* Parallel-specific style estimator block */\n",
       "\n",
       "#sk-container-id-3 div.sk-parallel-item::after {\n",
       "  content: \"\";\n",
       "  width: 100%;\n",
       "  border-bottom: 2px solid var(--sklearn-color-text-on-default-background);\n",
       "  flex-grow: 1;\n",
       "}\n",
       "\n",
       "#sk-container-id-3 div.sk-parallel {\n",
       "  display: flex;\n",
       "  align-items: stretch;\n",
       "  justify-content: center;\n",
       "  background-color: var(--sklearn-color-background);\n",
       "  position: relative;\n",
       "}\n",
       "\n",
       "#sk-container-id-3 div.sk-parallel-item {\n",
       "  display: flex;\n",
       "  flex-direction: column;\n",
       "}\n",
       "\n",
       "#sk-container-id-3 div.sk-parallel-item:first-child::after {\n",
       "  align-self: flex-end;\n",
       "  width: 50%;\n",
       "}\n",
       "\n",
       "#sk-container-id-3 div.sk-parallel-item:last-child::after {\n",
       "  align-self: flex-start;\n",
       "  width: 50%;\n",
       "}\n",
       "\n",
       "#sk-container-id-3 div.sk-parallel-item:only-child::after {\n",
       "  width: 0;\n",
       "}\n",
       "\n",
       "/* Serial-specific style estimator block */\n",
       "\n",
       "#sk-container-id-3 div.sk-serial {\n",
       "  display: flex;\n",
       "  flex-direction: column;\n",
       "  align-items: center;\n",
       "  background-color: var(--sklearn-color-background);\n",
       "  padding-right: 1em;\n",
       "  padding-left: 1em;\n",
       "}\n",
       "\n",
       "\n",
       "/* Toggleable style: style used for estimator/Pipeline/ColumnTransformer box that is\n",
       "clickable and can be expanded/collapsed.\n",
       "- Pipeline and ColumnTransformer use this feature and define the default style\n",
       "- Estimators will overwrite some part of the style using the `sk-estimator` class\n",
       "*/\n",
       "\n",
       "/* Pipeline and ColumnTransformer style (default) */\n",
       "\n",
       "#sk-container-id-3 div.sk-toggleable {\n",
       "  /* Default theme specific background. It is overwritten whether we have a\n",
       "  specific estimator or a Pipeline/ColumnTransformer */\n",
       "  background-color: var(--sklearn-color-background);\n",
       "}\n",
       "\n",
       "/* Toggleable label */\n",
       "#sk-container-id-3 label.sk-toggleable__label {\n",
       "  cursor: pointer;\n",
       "  display: block;\n",
       "  width: 100%;\n",
       "  margin-bottom: 0;\n",
       "  padding: 0.5em;\n",
       "  box-sizing: border-box;\n",
       "  text-align: center;\n",
       "}\n",
       "\n",
       "#sk-container-id-3 label.sk-toggleable__label-arrow:before {\n",
       "  /* Arrow on the left of the label */\n",
       "  content: \"▸\";\n",
       "  float: left;\n",
       "  margin-right: 0.25em;\n",
       "  color: var(--sklearn-color-icon);\n",
       "}\n",
       "\n",
       "#sk-container-id-3 label.sk-toggleable__label-arrow:hover:before {\n",
       "  color: var(--sklearn-color-text);\n",
       "}\n",
       "\n",
       "/* Toggleable content - dropdown */\n",
       "\n",
       "#sk-container-id-3 div.sk-toggleable__content {\n",
       "  max-height: 0;\n",
       "  max-width: 0;\n",
       "  overflow: hidden;\n",
       "  text-align: left;\n",
       "  /* unfitted */\n",
       "  background-color: var(--sklearn-color-unfitted-level-0);\n",
       "}\n",
       "\n",
       "#sk-container-id-3 div.sk-toggleable__content.fitted {\n",
       "  /* fitted */\n",
       "  background-color: var(--sklearn-color-fitted-level-0);\n",
       "}\n",
       "\n",
       "#sk-container-id-3 div.sk-toggleable__content pre {\n",
       "  margin: 0.2em;\n",
       "  border-radius: 0.25em;\n",
       "  color: var(--sklearn-color-text);\n",
       "  /* unfitted */\n",
       "  background-color: var(--sklearn-color-unfitted-level-0);\n",
       "}\n",
       "\n",
       "#sk-container-id-3 div.sk-toggleable__content.fitted pre {\n",
       "  /* unfitted */\n",
       "  background-color: var(--sklearn-color-fitted-level-0);\n",
       "}\n",
       "\n",
       "#sk-container-id-3 input.sk-toggleable__control:checked~div.sk-toggleable__content {\n",
       "  /* Expand drop-down */\n",
       "  max-height: 200px;\n",
       "  max-width: 100%;\n",
       "  overflow: auto;\n",
       "}\n",
       "\n",
       "#sk-container-id-3 input.sk-toggleable__control:checked~label.sk-toggleable__label-arrow:before {\n",
       "  content: \"▾\";\n",
       "}\n",
       "\n",
       "/* Pipeline/ColumnTransformer-specific style */\n",
       "\n",
       "#sk-container-id-3 div.sk-label input.sk-toggleable__control:checked~label.sk-toggleable__label {\n",
       "  color: var(--sklearn-color-text);\n",
       "  background-color: var(--sklearn-color-unfitted-level-2);\n",
       "}\n",
       "\n",
       "#sk-container-id-3 div.sk-label.fitted input.sk-toggleable__control:checked~label.sk-toggleable__label {\n",
       "  background-color: var(--sklearn-color-fitted-level-2);\n",
       "}\n",
       "\n",
       "/* Estimator-specific style */\n",
       "\n",
       "/* Colorize estimator box */\n",
       "#sk-container-id-3 div.sk-estimator input.sk-toggleable__control:checked~label.sk-toggleable__label {\n",
       "  /* unfitted */\n",
       "  background-color: var(--sklearn-color-unfitted-level-2);\n",
       "}\n",
       "\n",
       "#sk-container-id-3 div.sk-estimator.fitted input.sk-toggleable__control:checked~label.sk-toggleable__label {\n",
       "  /* fitted */\n",
       "  background-color: var(--sklearn-color-fitted-level-2);\n",
       "}\n",
       "\n",
       "#sk-container-id-3 div.sk-label label.sk-toggleable__label,\n",
       "#sk-container-id-3 div.sk-label label {\n",
       "  /* The background is the default theme color */\n",
       "  color: var(--sklearn-color-text-on-default-background);\n",
       "}\n",
       "\n",
       "/* On hover, darken the color of the background */\n",
       "#sk-container-id-3 div.sk-label:hover label.sk-toggleable__label {\n",
       "  color: var(--sklearn-color-text);\n",
       "  background-color: var(--sklearn-color-unfitted-level-2);\n",
       "}\n",
       "\n",
       "/* Label box, darken color on hover, fitted */\n",
       "#sk-container-id-3 div.sk-label.fitted:hover label.sk-toggleable__label.fitted {\n",
       "  color: var(--sklearn-color-text);\n",
       "  background-color: var(--sklearn-color-fitted-level-2);\n",
       "}\n",
       "\n",
       "/* Estimator label */\n",
       "\n",
       "#sk-container-id-3 div.sk-label label {\n",
       "  font-family: monospace;\n",
       "  font-weight: bold;\n",
       "  display: inline-block;\n",
       "  line-height: 1.2em;\n",
       "}\n",
       "\n",
       "#sk-container-id-3 div.sk-label-container {\n",
       "  text-align: center;\n",
       "}\n",
       "\n",
       "/* Estimator-specific */\n",
       "#sk-container-id-3 div.sk-estimator {\n",
       "  font-family: monospace;\n",
       "  border: 1px dotted var(--sklearn-color-border-box);\n",
       "  border-radius: 0.25em;\n",
       "  box-sizing: border-box;\n",
       "  margin-bottom: 0.5em;\n",
       "  /* unfitted */\n",
       "  background-color: var(--sklearn-color-unfitted-level-0);\n",
       "}\n",
       "\n",
       "#sk-container-id-3 div.sk-estimator.fitted {\n",
       "  /* fitted */\n",
       "  background-color: var(--sklearn-color-fitted-level-0);\n",
       "}\n",
       "\n",
       "/* on hover */\n",
       "#sk-container-id-3 div.sk-estimator:hover {\n",
       "  /* unfitted */\n",
       "  background-color: var(--sklearn-color-unfitted-level-2);\n",
       "}\n",
       "\n",
       "#sk-container-id-3 div.sk-estimator.fitted:hover {\n",
       "  /* fitted */\n",
       "  background-color: var(--sklearn-color-fitted-level-2);\n",
       "}\n",
       "\n",
       "/* Specification for estimator info (e.g. \"i\" and \"?\") */\n",
       "\n",
       "/* Common style for \"i\" and \"?\" */\n",
       "\n",
       ".sk-estimator-doc-link,\n",
       "a:link.sk-estimator-doc-link,\n",
       "a:visited.sk-estimator-doc-link {\n",
       "  float: right;\n",
       "  font-size: smaller;\n",
       "  line-height: 1em;\n",
       "  font-family: monospace;\n",
       "  background-color: var(--sklearn-color-background);\n",
       "  border-radius: 1em;\n",
       "  height: 1em;\n",
       "  width: 1em;\n",
       "  text-decoration: none !important;\n",
       "  margin-left: 1ex;\n",
       "  /* unfitted */\n",
       "  border: var(--sklearn-color-unfitted-level-1) 1pt solid;\n",
       "  color: var(--sklearn-color-unfitted-level-1);\n",
       "}\n",
       "\n",
       ".sk-estimator-doc-link.fitted,\n",
       "a:link.sk-estimator-doc-link.fitted,\n",
       "a:visited.sk-estimator-doc-link.fitted {\n",
       "  /* fitted */\n",
       "  border: var(--sklearn-color-fitted-level-1) 1pt solid;\n",
       "  color: var(--sklearn-color-fitted-level-1);\n",
       "}\n",
       "\n",
       "/* On hover */\n",
       "div.sk-estimator:hover .sk-estimator-doc-link:hover,\n",
       ".sk-estimator-doc-link:hover,\n",
       "div.sk-label-container:hover .sk-estimator-doc-link:hover,\n",
       ".sk-estimator-doc-link:hover {\n",
       "  /* unfitted */\n",
       "  background-color: var(--sklearn-color-unfitted-level-3);\n",
       "  color: var(--sklearn-color-background);\n",
       "  text-decoration: none;\n",
       "}\n",
       "\n",
       "div.sk-estimator.fitted:hover .sk-estimator-doc-link.fitted:hover,\n",
       ".sk-estimator-doc-link.fitted:hover,\n",
       "div.sk-label-container:hover .sk-estimator-doc-link.fitted:hover,\n",
       ".sk-estimator-doc-link.fitted:hover {\n",
       "  /* fitted */\n",
       "  background-color: var(--sklearn-color-fitted-level-3);\n",
       "  color: var(--sklearn-color-background);\n",
       "  text-decoration: none;\n",
       "}\n",
       "\n",
       "/* Span, style for the box shown on hovering the info icon */\n",
       ".sk-estimator-doc-link span {\n",
       "  display: none;\n",
       "  z-index: 9999;\n",
       "  position: relative;\n",
       "  font-weight: normal;\n",
       "  right: .2ex;\n",
       "  padding: .5ex;\n",
       "  margin: .5ex;\n",
       "  width: min-content;\n",
       "  min-width: 20ex;\n",
       "  max-width: 50ex;\n",
       "  color: var(--sklearn-color-text);\n",
       "  box-shadow: 2pt 2pt 4pt #999;\n",
       "  /* unfitted */\n",
       "  background: var(--sklearn-color-unfitted-level-0);\n",
       "  border: .5pt solid var(--sklearn-color-unfitted-level-3);\n",
       "}\n",
       "\n",
       ".sk-estimator-doc-link.fitted span {\n",
       "  /* fitted */\n",
       "  background: var(--sklearn-color-fitted-level-0);\n",
       "  border: var(--sklearn-color-fitted-level-3);\n",
       "}\n",
       "\n",
       ".sk-estimator-doc-link:hover span {\n",
       "  display: block;\n",
       "}\n",
       "\n",
       "/* \"?\"-specific style due to the `<a>` HTML tag */\n",
       "\n",
       "#sk-container-id-3 a.estimator_doc_link {\n",
       "  float: right;\n",
       "  font-size: 1rem;\n",
       "  line-height: 1em;\n",
       "  font-family: monospace;\n",
       "  background-color: var(--sklearn-color-background);\n",
       "  border-radius: 1rem;\n",
       "  height: 1rem;\n",
       "  width: 1rem;\n",
       "  text-decoration: none;\n",
       "  /* unfitted */\n",
       "  color: var(--sklearn-color-unfitted-level-1);\n",
       "  border: var(--sklearn-color-unfitted-level-1) 1pt solid;\n",
       "}\n",
       "\n",
       "#sk-container-id-3 a.estimator_doc_link.fitted {\n",
       "  /* fitted */\n",
       "  border: var(--sklearn-color-fitted-level-1) 1pt solid;\n",
       "  color: var(--sklearn-color-fitted-level-1);\n",
       "}\n",
       "\n",
       "/* On hover */\n",
       "#sk-container-id-3 a.estimator_doc_link:hover {\n",
       "  /* unfitted */\n",
       "  background-color: var(--sklearn-color-unfitted-level-3);\n",
       "  color: var(--sklearn-color-background);\n",
       "  text-decoration: none;\n",
       "}\n",
       "\n",
       "#sk-container-id-3 a.estimator_doc_link.fitted:hover {\n",
       "  /* fitted */\n",
       "  background-color: var(--sklearn-color-fitted-level-3);\n",
       "}\n",
       "</style><div id=\"sk-container-id-3\" class=\"sk-top-container\"><div class=\"sk-text-repr-fallback\"><pre>KMeans(n_clusters=4)</pre><b>In a Jupyter environment, please rerun this cell to show the HTML representation or trust the notebook. <br />On GitHub, the HTML representation is unable to render, please try loading this page with nbviewer.org.</b></div><div class=\"sk-container\" hidden><div class=\"sk-item\"><div class=\"sk-estimator fitted sk-toggleable\"><input class=\"sk-toggleable__control sk-hidden--visually\" id=\"sk-estimator-id-3\" type=\"checkbox\" checked><label for=\"sk-estimator-id-3\" class=\"sk-toggleable__label fitted sk-toggleable__label-arrow fitted\">&nbsp;&nbsp;KMeans<a class=\"sk-estimator-doc-link fitted\" rel=\"noreferrer\" target=\"_blank\" href=\"https://scikit-learn.org/1.5/modules/generated/sklearn.cluster.KMeans.html\">?<span>Documentation for KMeans</span></a><span class=\"sk-estimator-doc-link fitted\">i<span>Fitted</span></span></label><div class=\"sk-toggleable__content fitted\"><pre>KMeans(n_clusters=4)</pre></div> </div></div></div></div>"
      ],
      "text/plain": [
       "KMeans(n_clusters=4)"
      ]
     },
     "execution_count": 140,
     "metadata": {},
     "output_type": "execute_result"
    }
   ],
   "source": [
    "# Fitting the k-means object to the data.\n",
    "\n",
    "kmeans.fit(numbers_only)"
   ]
  },
  {
   "cell_type": "code",
   "execution_count": 141,
   "id": "48651b40-247c-46b4-964c-f06d465e2a7b",
   "metadata": {},
   "outputs": [
    {
     "name": "stderr",
     "output_type": "stream",
     "text": [
      "/var/folders/53/fhgd2kgx51j3l2vlj5dchl_w0000gq/T/ipykernel_33109/3200011041.py:2: SettingWithCopyWarning: \n",
      "A value is trying to be set on a copy of a slice from a DataFrame.\n",
      "Try using .loc[row_indexer,col_indexer] = value instead\n",
      "\n",
      "See the caveats in the documentation: https://pandas.pydata.org/pandas-docs/stable/user_guide/indexing.html#returning-a-view-versus-a-copy\n",
      "  numbers_only['clusters'] = kmeans.fit_predict(numbers_only)\n"
     ]
    }
   ],
   "source": [
    "# Visualizing the clusters\n",
    "numbers_only['clusters'] = kmeans.fit_predict(numbers_only)"
   ]
  },
  {
   "cell_type": "code",
   "execution_count": 142,
   "id": "1fb40ca5-c586-48c3-b6bf-e6b9ed7d6831",
   "metadata": {},
   "outputs": [
    {
     "data": {
      "text/html": [
       "<div>\n",
       "<style scoped>\n",
       "    .dataframe tbody tr th:only-of-type {\n",
       "        vertical-align: middle;\n",
       "    }\n",
       "\n",
       "    .dataframe tbody tr th {\n",
       "        vertical-align: top;\n",
       "    }\n",
       "\n",
       "    .dataframe thead th {\n",
       "        text-align: right;\n",
       "    }\n",
       "</style>\n",
       "<table border=\"1\" class=\"dataframe\">\n",
       "  <thead>\n",
       "    <tr style=\"text-align: right;\">\n",
       "      <th></th>\n",
       "      <th>Median Household Income</th>\n",
       "      <th>Total Population</th>\n",
       "      <th>clusters</th>\n",
       "    </tr>\n",
       "  </thead>\n",
       "  <tbody>\n",
       "    <tr>\n",
       "      <th>0</th>\n",
       "      <td>69841</td>\n",
       "      <td>59285</td>\n",
       "      <td>0</td>\n",
       "    </tr>\n",
       "    <tr>\n",
       "      <th>1</th>\n",
       "      <td>75019</td>\n",
       "      <td>239945</td>\n",
       "      <td>0</td>\n",
       "    </tr>\n",
       "    <tr>\n",
       "      <th>2</th>\n",
       "      <td>44290</td>\n",
       "      <td>24757</td>\n",
       "      <td>0</td>\n",
       "    </tr>\n",
       "    <tr>\n",
       "      <th>3</th>\n",
       "      <td>51215</td>\n",
       "      <td>22152</td>\n",
       "      <td>0</td>\n",
       "    </tr>\n",
       "    <tr>\n",
       "      <th>4</th>\n",
       "      <td>61096</td>\n",
       "      <td>59292</td>\n",
       "      <td>0</td>\n",
       "    </tr>\n",
       "  </tbody>\n",
       "</table>\n",
       "</div>"
      ],
      "text/plain": [
       "   Median Household Income  Total Population  clusters\n",
       "0                    69841             59285         0\n",
       "1                    75019            239945         0\n",
       "2                    44290             24757         0\n",
       "3                    51215             22152         0\n",
       "4                    61096             59292         0"
      ]
     },
     "execution_count": 142,
     "metadata": {},
     "output_type": "execute_result"
    }
   ],
   "source": [
    "# Checking the clusters\n",
    "\n",
    "numbers_only.head()"
   ]
  },
  {
   "cell_type": "code",
   "execution_count": 143,
   "id": "67ef0974-75af-490a-9da9-124b5a96b2aa",
   "metadata": {},
   "outputs": [
    {
     "data": {
      "text/plain": [
       "clusters\n",
       "0    2962\n",
       "2     163\n",
       "1      18\n",
       "3       1\n",
       "Name: count, dtype: int64"
      ]
     },
     "execution_count": 143,
     "metadata": {},
     "output_type": "execute_result"
    }
   ],
   "source": [
    "# Checking the cluster distribution\n",
    "\n",
    "numbers_only['clusters'].value_counts()"
   ]
  },
  {
   "cell_type": "code",
   "execution_count": 144,
   "id": "675fca3a-ec60-4fff-9a59-a425b55b5f0d",
   "metadata": {},
   "outputs": [
    {
     "data": {
      "image/png": "[encoded data removed]",
      "text/plain": [
       "<Figure size 1200x800 with 1 Axes>"
      ]
     },
     "metadata": {},
     "output_type": "display_data"
    }
   ],
   "source": [
    "# Plotting the clusters for the \"Median Household Income\" and \"Total Poppulation\" variables.\n",
    "\n",
    "plt.figure(figsize=(12,8))\n",
    "ax = sns.scatterplot(x=numbers_only['Median Household Income'], y=numbers_only['Total Population'], hue=kmeans.labels_, s=100) \n",
    "\n",
    "ax.grid(False)\n",
    "plt.xlabel('Median Household Income')\n",
    "plt.ylabel('Total Population')\n",
    "plt.show()"
   ]
  },
  {
   "cell_type": "markdown",
   "id": "21a9e981-ffad-47ce-bacb-d7b6aecf2cbd",
   "metadata": {},
   "source": [
    "The one value (in cluster 3) is very extreme, so it makes sense that it's separate from the rest. I wonder if eliminating it would be a good idea, yet at the same time I want to avoid potential biases that it would cause.\n",
    "\n",
    "The places where the population is quite high, the median income is middle to high (cluster 2). This makes sense as one would assume that working in the city would probably result in higher salaries.\n",
    "\n",
    "In places where the population is low, there are more people with lower income (cluster 1). However, the income doesn't seem to strictly depend on that, as the range of the cluster expands to the higher end of the income bracket, too."
   ]
  },
  {
   "cell_type": "code",
   "execution_count": 146,
   "id": "c58e0105-4b1c-4a98-bcef-4a6ea6025d03",
   "metadata": {},
   "outputs": [
    {
     "name": "stderr",
     "output_type": "stream",
     "text": [
      "/var/folders/53/fhgd2kgx51j3l2vlj5dchl_w0000gq/T/ipykernel_33109/2855156630.py:3: SettingWithCopyWarning: \n",
      "A value is trying to be set on a copy of a slice from a DataFrame.\n",
      "Try using .loc[row_indexer,col_indexer] = value instead\n",
      "\n",
      "See the caveats in the documentation: https://pandas.pydata.org/pandas-docs/stable/user_guide/indexing.html#returning-a-view-versus-a-copy\n",
      "  numbers_only.loc[numbers_only['clusters'] == 3, 'cluster'] = 'dark purple'\n"
     ]
    }
   ],
   "source": [
    "# Naming the clusters so they are easier to identify\n",
    "\n",
    "numbers_only.loc[numbers_only['clusters'] == 3, 'cluster'] = 'dark purple'\n",
    "numbers_only.loc[numbers_only['clusters'] == 2, 'cluster'] = 'purple'\n",
    "numbers_only.loc[numbers_only['clusters'] == 1, 'cluster'] = 'pink'\n",
    "numbers_only.loc[numbers_only['clusters'] == 0, 'cluster'] = 'blush'"
   ]
  },
  {
   "cell_type": "code",
   "execution_count": 147,
   "id": "cbbc101d-8f4a-4c86-9894-3feabfc2f89e",
   "metadata": {},
   "outputs": [
    {
     "data": {
      "text/html": [
       "<div>\n",
       "<style scoped>\n",
       "    .dataframe tbody tr th:only-of-type {\n",
       "        vertical-align: middle;\n",
       "    }\n",
       "\n",
       "    .dataframe tbody tr th {\n",
       "        vertical-align: top;\n",
       "    }\n",
       "\n",
       "    .dataframe thead tr th {\n",
       "        text-align: left;\n",
       "    }\n",
       "\n",
       "    .dataframe thead tr:last-of-type th {\n",
       "        text-align: right;\n",
       "    }\n",
       "</style>\n",
       "<table border=\"1\" class=\"dataframe\">\n",
       "  <thead>\n",
       "    <tr>\n",
       "      <th></th>\n",
       "      <th colspan=\"2\" halign=\"left\">Median Household Income</th>\n",
       "      <th colspan=\"2\" halign=\"left\">Total Population</th>\n",
       "    </tr>\n",
       "    <tr>\n",
       "      <th></th>\n",
       "      <th>mean</th>\n",
       "      <th>median</th>\n",
       "      <th>mean</th>\n",
       "      <th>median</th>\n",
       "    </tr>\n",
       "    <tr>\n",
       "      <th>cluster</th>\n",
       "      <th></th>\n",
       "      <th></th>\n",
       "      <th></th>\n",
       "      <th></th>\n",
       "    </tr>\n",
       "  </thead>\n",
       "  <tbody>\n",
       "    <tr>\n",
       "      <th>blush</th>\n",
       "      <td>64613.428764</td>\n",
       "      <td>62808.5</td>\n",
       "      <td>5.045898e+04</td>\n",
       "      <td>23420.5</td>\n",
       "    </tr>\n",
       "    <tr>\n",
       "      <th>dark purple</th>\n",
       "      <td>87760.000000</td>\n",
       "      <td>87760.0</td>\n",
       "      <td>9.848406e+06</td>\n",
       "      <td>9848406.0</td>\n",
       "    </tr>\n",
       "    <tr>\n",
       "      <th>pink</th>\n",
       "      <td>87600.666667</td>\n",
       "      <td>81851.0</td>\n",
       "      <td>2.785514e+06</td>\n",
       "      <td>2390016.5</td>\n",
       "    </tr>\n",
       "    <tr>\n",
       "      <th>purple</th>\n",
       "      <td>90074.901840</td>\n",
       "      <td>87470.0</td>\n",
       "      <td>7.542355e+05</td>\n",
       "      <td>669744.0</td>\n",
       "    </tr>\n",
       "  </tbody>\n",
       "</table>\n",
       "</div>"
      ],
      "text/plain": [
       "            Median Household Income          Total Population           \n",
       "                               mean   median             mean     median\n",
       "cluster                                                                 \n",
       "blush                  64613.428764  62808.5     5.045898e+04    23420.5\n",
       "dark purple            87760.000000  87760.0     9.848406e+06  9848406.0\n",
       "pink                   87600.666667  81851.0     2.785514e+06  2390016.5\n",
       "purple                 90074.901840  87470.0     7.542355e+05   669744.0"
      ]
     },
     "execution_count": 147,
     "metadata": {},
     "output_type": "execute_result"
    }
   ],
   "source": [
    "numbers_only.groupby('cluster').agg({'Median Household Income':['mean', 'median'], \n",
    "                          'Total Population':['mean', 'median']})"
   ]
  },
  {
   "cell_type": "markdown",
   "id": "0ba5830d-101d-48a9-abb2-5724e0924884",
   "metadata": {},
   "source": [
    "The dark purple one is tough to interpret because it represents only one value. So, this suggests that maybe it makes sense to eliminate it from further analysis as an outlier.\n",
    "\n",
    "The blush cluster seems to be doing the best when it comes to aggregates. median houehol income. It also places third for the population size. Thsi seems to be ideal, as the counties are not overpopulated but the income is still high. This could answer quention on which counties are best to live in to get a balance of community and good income."
   ]
  },
  {
   "cell_type": "code",
   "execution_count": 149,
   "id": "ff9e8567-16dc-4181-9b54-b277f0862e6a",
   "metadata": {},
   "outputs": [],
   "source": [
    "# Exporting the final data set file to pickle\n",
    "\n",
    "numbers_only.to_csv(os.path.join(path, '6.7 Final project', 'clusterplot.csv'))"
   ]
  },
  {
   "cell_type": "code",
   "execution_count": 165,
   "id": "c9499f33-6038-4ff7-bf6a-0ea6364401b8",
   "metadata": {},
   "outputs": [],
   "source": [
    "# Combine categorical columns with clustering results\n",
    "final_df = df_income.copy()\n",
    "final_df['cluster'] = numbers_only['cluster']  # Add cluster column"
   ]
  },
  {
   "cell_type": "code",
   "execution_count": 167,
   "id": "139bf2af-fa3c-4419-8176-c3ea1f424e37",
   "metadata": {},
   "outputs": [
    {
     "data": {
      "text/html": [
       "<div>\n",
       "<style scoped>\n",
       "    .dataframe tbody tr th:only-of-type {\n",
       "        vertical-align: middle;\n",
       "    }\n",
       "\n",
       "    .dataframe tbody tr th {\n",
       "        vertical-align: top;\n",
       "    }\n",
       "\n",
       "    .dataframe thead th {\n",
       "        text-align: right;\n",
       "    }\n",
       "</style>\n",
       "<table border=\"1\" class=\"dataframe\">\n",
       "  <thead>\n",
       "    <tr style=\"text-align: right;\">\n",
       "      <th></th>\n",
       "      <th>County</th>\n",
       "      <th>State</th>\n",
       "      <th>FIPS</th>\n",
       "      <th>State FIPS Code</th>\n",
       "      <th>County FIPS Code</th>\n",
       "      <th>Total Population</th>\n",
       "      <th>Median Household Income</th>\n",
       "      <th>Urban-Rural</th>\n",
       "      <th>cluster</th>\n",
       "    </tr>\n",
       "  </thead>\n",
       "  <tbody>\n",
       "    <tr>\n",
       "      <th>0</th>\n",
       "      <td>Autauga County</td>\n",
       "      <td>Alabama</td>\n",
       "      <td>1001</td>\n",
       "      <td>1</td>\n",
       "      <td>1</td>\n",
       "      <td>59285</td>\n",
       "      <td>69841</td>\n",
       "      <td>Urban</td>\n",
       "      <td>blush</td>\n",
       "    </tr>\n",
       "    <tr>\n",
       "      <th>1</th>\n",
       "      <td>Baldwin County</td>\n",
       "      <td>Alabama</td>\n",
       "      <td>1003</td>\n",
       "      <td>1</td>\n",
       "      <td>3</td>\n",
       "      <td>239945</td>\n",
       "      <td>75019</td>\n",
       "      <td>Urban</td>\n",
       "      <td>blush</td>\n",
       "    </tr>\n",
       "    <tr>\n",
       "      <th>2</th>\n",
       "      <td>Barbour County</td>\n",
       "      <td>Alabama</td>\n",
       "      <td>1005</td>\n",
       "      <td>1</td>\n",
       "      <td>5</td>\n",
       "      <td>24757</td>\n",
       "      <td>44290</td>\n",
       "      <td>Rural</td>\n",
       "      <td>blush</td>\n",
       "    </tr>\n",
       "    <tr>\n",
       "      <th>3</th>\n",
       "      <td>Bibb County</td>\n",
       "      <td>Alabama</td>\n",
       "      <td>1007</td>\n",
       "      <td>1</td>\n",
       "      <td>7</td>\n",
       "      <td>22152</td>\n",
       "      <td>51215</td>\n",
       "      <td>Rural</td>\n",
       "      <td>blush</td>\n",
       "    </tr>\n",
       "    <tr>\n",
       "      <th>4</th>\n",
       "      <td>Blount County</td>\n",
       "      <td>Alabama</td>\n",
       "      <td>1009</td>\n",
       "      <td>1</td>\n",
       "      <td>9</td>\n",
       "      <td>59292</td>\n",
       "      <td>61096</td>\n",
       "      <td>Urban</td>\n",
       "      <td>blush</td>\n",
       "    </tr>\n",
       "  </tbody>\n",
       "</table>\n",
       "</div>"
      ],
      "text/plain": [
       "           County    State  FIPS  State FIPS Code  County FIPS Code  \\\n",
       "0  Autauga County  Alabama  1001                1                 1   \n",
       "1  Baldwin County  Alabama  1003                1                 3   \n",
       "2  Barbour County  Alabama  1005                1                 5   \n",
       "3     Bibb County  Alabama  1007                1                 7   \n",
       "4   Blount County  Alabama  1009                1                 9   \n",
       "\n",
       "   Total Population  Median Household Income Urban-Rural cluster  \n",
       "0             59285                    69841       Urban   blush  \n",
       "1            239945                    75019       Urban   blush  \n",
       "2             24757                    44290       Rural   blush  \n",
       "3             22152                    51215       Rural   blush  \n",
       "4             59292                    61096       Urban   blush  "
      ]
     },
     "execution_count": 167,
     "metadata": {},
     "output_type": "execute_result"
    }
   ],
   "source": [
    "final_df.head()"
   ]
  },
  {
   "cell_type": "code",
   "execution_count": 169,
   "id": "4a672a2c-9421-445a-b9f0-496616085548",
   "metadata": {},
   "outputs": [],
   "source": [
    "# Save the result\n",
    "final_df.to_csv(os.path.join(path, '6.7 Final project', 'clusterplot.csv'), index=False)"
   ]
  },
  {
   "cell_type": "code",
   "execution_count": null,
   "id": "581e440c-66e8-43b8-9188-8cbd6f117118",
   "metadata": {},
   "outputs": [],
   "source": []
  }
 ],
 "metadata": {
  "kernelspec": {
   "display_name": "Python [conda env:base] *",
   "language": "python",
   "name": "conda-base-py"
  },
  "language_info": {
   "codemirror_mode": {
    "name": "ipython",
    "version": 3
   },
   "file_extension": ".py",
   "mimetype": "text/x-python",
   "name": "python",
   "nbconvert_exporter": "python",
   "pygments_lexer": "ipython3",
   "version": "3.12.7"
  }
 },
 "nbformat": 4,
 "nbformat_minor": 5
}
